{
 "cells": [
  {
   "cell_type": "code",
   "execution_count": 7,
   "id": "unlikely-oxide",
   "metadata": {},
   "outputs": [],
   "source": [
    "import numpy as np\n",
    "import pandas as pd"
   ]
  },
  {
   "cell_type": "markdown",
   "id": "virgin-kazakhstan",
   "metadata": {},
   "source": [
    "### Installing Scikit lear\n",
    "pip install -U scikit-learn\n",
    "or in jupyter notebook"
   ]
  },
  {
   "cell_type": "markdown",
   "id": "silver-thumbnail",
   "metadata": {},
   "source": [
    "! conda install scikit-learn"
   ]
  },
  {
   "cell_type": "code",
   "execution_count": 8,
   "id": "specialized-lafayette",
   "metadata": {},
   "outputs": [
    {
     "name": "stdout",
     "output_type": "stream",
     "text": [
      "Collecting package metadata (current_repodata.json): ...working... done\n",
      "Solving environment: ...working... done\n",
      "\n",
      "## Package Plan ##\n",
      "\n",
      "  environment location: C:\\Users\\User-PC\\anaconda3\n",
      "\n",
      "  added / updated specs:\n",
      "    - scikit-learn\n",
      "\n",
      "\n",
      "The following packages will be downloaded:\n",
      "\n",
      "    package                    |            build\n",
      "    ---------------------------|-----------------\n",
      "    ca-certificates-2021.4.13  |       haa95532_1         115 KB\n",
      "    conda-4.10.1               |   py38haa95532_1         2.9 MB\n",
      "    openssl-1.1.1k             |       h2bbff1b_0         4.8 MB\n",
      "    ------------------------------------------------------------\n",
      "                                           Total:         7.8 MB\n",
      "\n",
      "The following packages will be UPDATED:\n",
      "\n",
      "  ca-certificates                      2021.1.19-haa95532_0 --> 2021.4.13-haa95532_1\n",
      "  conda                                4.9.2-py38haa95532_0 --> 4.10.1-py38haa95532_1\n",
      "  openssl                                 1.1.1j-h2bbff1b_0 --> 1.1.1k-h2bbff1b_0\n",
      "\n",
      "\n",
      "\n",
      "Downloading and Extracting Packages\n",
      "\n",
      "ca-certificates-2021 | 115 KB    |            |   0% \n",
      "ca-certificates-2021 | 115 KB    | #3         |  14% \n",
      "ca-certificates-2021 | 115 KB    | #####5     |  56% \n",
      "ca-certificates-2021 | 115 KB    | ########## | 100% \n",
      "ca-certificates-2021 | 115 KB    | ########## | 100% \n",
      "\n",
      "openssl-1.1.1k       | 4.8 MB    |            |   0% \n",
      "openssl-1.1.1k       | 4.8 MB    |            |   0% \n",
      "openssl-1.1.1k       | 4.8 MB    |            |   1% \n",
      "openssl-1.1.1k       | 4.8 MB    | 1          |   2% \n",
      "openssl-1.1.1k       | 4.8 MB    | 3          |   3% \n",
      "openssl-1.1.1k       | 4.8 MB    | 4          |   5% \n",
      "openssl-1.1.1k       | 4.8 MB    | 5          |   6% \n",
      "openssl-1.1.1k       | 4.8 MB    | 7          |   7% \n",
      "openssl-1.1.1k       | 4.8 MB    | 8          |   8% \n",
      "openssl-1.1.1k       | 4.8 MB    | 9          |  10% \n",
      "openssl-1.1.1k       | 4.8 MB    | #1         |  11% \n",
      "openssl-1.1.1k       | 4.8 MB    | #2         |  13% \n",
      "openssl-1.1.1k       | 4.8 MB    | #4         |  15% \n",
      "openssl-1.1.1k       | 4.8 MB    | #6         |  16% \n",
      "openssl-1.1.1k       | 4.8 MB    | #7         |  18% \n",
      "openssl-1.1.1k       | 4.8 MB    | #9         |  19% \n",
      "openssl-1.1.1k       | 4.8 MB    | ##         |  20% \n",
      "openssl-1.1.1k       | 4.8 MB    | ##1        |  22% \n",
      "openssl-1.1.1k       | 4.8 MB    | ##3        |  23% \n",
      "openssl-1.1.1k       | 4.8 MB    | ##4        |  24% \n",
      "openssl-1.1.1k       | 4.8 MB    | ##5        |  26% \n",
      "openssl-1.1.1k       | 4.8 MB    | ##6        |  27% \n",
      "openssl-1.1.1k       | 4.8 MB    | ##7        |  28% \n",
      "openssl-1.1.1k       | 4.8 MB    | ##9        |  30% \n",
      "openssl-1.1.1k       | 4.8 MB    | ###        |  31% \n",
      "openssl-1.1.1k       | 4.8 MB    | ###2       |  32% \n",
      "openssl-1.1.1k       | 4.8 MB    | ###3       |  33% \n",
      "openssl-1.1.1k       | 4.8 MB    | ###5       |  35% \n",
      "openssl-1.1.1k       | 4.8 MB    | ###6       |  36% \n",
      "openssl-1.1.1k       | 4.8 MB    | ###7       |  38% \n",
      "openssl-1.1.1k       | 4.8 MB    | ###8       |  39% \n",
      "openssl-1.1.1k       | 4.8 MB    | ####       |  40% \n",
      "openssl-1.1.1k       | 4.8 MB    | ####1      |  41% \n",
      "openssl-1.1.1k       | 4.8 MB    | ####2      |  42% \n",
      "openssl-1.1.1k       | 4.8 MB    | ####3      |  43% \n",
      "openssl-1.1.1k       | 4.8 MB    | ####4      |  44% \n",
      "openssl-1.1.1k       | 4.8 MB    | ####5      |  45% \n",
      "openssl-1.1.1k       | 4.8 MB    | ####6      |  46% \n",
      "openssl-1.1.1k       | 4.8 MB    | ####7      |  47% \n",
      "openssl-1.1.1k       | 4.8 MB    | ####8      |  48% \n",
      "openssl-1.1.1k       | 4.8 MB    | ####9      |  49% \n",
      "openssl-1.1.1k       | 4.8 MB    | #####      |  50% \n",
      "openssl-1.1.1k       | 4.8 MB    | #####1     |  51% \n",
      "openssl-1.1.1k       | 4.8 MB    | #####2     |  52% \n",
      "openssl-1.1.1k       | 4.8 MB    | #####3     |  53% \n",
      "openssl-1.1.1k       | 4.8 MB    | #####4     |  54% \n",
      "openssl-1.1.1k       | 4.8 MB    | #####5     |  55% \n",
      "openssl-1.1.1k       | 4.8 MB    | #####6     |  56% \n",
      "openssl-1.1.1k       | 4.8 MB    | #####7     |  57% \n",
      "openssl-1.1.1k       | 4.8 MB    | #####8     |  59% \n",
      "openssl-1.1.1k       | 4.8 MB    | #####9     |  60% \n",
      "openssl-1.1.1k       | 4.8 MB    | ######1    |  61% \n",
      "openssl-1.1.1k       | 4.8 MB    | ######2    |  62% \n",
      "openssl-1.1.1k       | 4.8 MB    | ######3    |  63% \n",
      "openssl-1.1.1k       | 4.8 MB    | ######4    |  64% \n",
      "openssl-1.1.1k       | 4.8 MB    | ######5    |  65% \n",
      "openssl-1.1.1k       | 4.8 MB    | ######6    |  66% \n",
      "openssl-1.1.1k       | 4.8 MB    | ######7    |  67% \n",
      "openssl-1.1.1k       | 4.8 MB    | ######8    |  68% \n",
      "openssl-1.1.1k       | 4.8 MB    | ######9    |  69% \n",
      "openssl-1.1.1k       | 4.8 MB    | #######    |  70% \n",
      "openssl-1.1.1k       | 4.8 MB    | #######1   |  71% \n",
      "openssl-1.1.1k       | 4.8 MB    | #######2   |  73% \n",
      "openssl-1.1.1k       | 4.8 MB    | #######3   |  74% \n",
      "openssl-1.1.1k       | 4.8 MB    | #######4   |  75% \n",
      "openssl-1.1.1k       | 4.8 MB    | #######5   |  76% \n",
      "openssl-1.1.1k       | 4.8 MB    | #######7   |  77% \n",
      "openssl-1.1.1k       | 4.8 MB    | #######8   |  78% \n",
      "openssl-1.1.1k       | 4.8 MB    | #######9   |  80% \n",
      "openssl-1.1.1k       | 4.8 MB    | ########   |  81% \n",
      "openssl-1.1.1k       | 4.8 MB    | ########2  |  82% \n",
      "openssl-1.1.1k       | 4.8 MB    | ########2  |  83% \n",
      "openssl-1.1.1k       | 4.8 MB    | ########3  |  84% \n",
      "openssl-1.1.1k       | 4.8 MB    | ########4  |  85% \n",
      "openssl-1.1.1k       | 4.8 MB    | ########5  |  86% \n",
      "openssl-1.1.1k       | 4.8 MB    | ########7  |  88% \n",
      "openssl-1.1.1k       | 4.8 MB    | ########8  |  89% \n",
      "openssl-1.1.1k       | 4.8 MB    | ########9  |  90% \n",
      "openssl-1.1.1k       | 4.8 MB    | #########  |  91% \n",
      "openssl-1.1.1k       | 4.8 MB    | #########1 |  92% \n",
      "openssl-1.1.1k       | 4.8 MB    | #########2 |  93% \n",
      "openssl-1.1.1k       | 4.8 MB    | #########4 |  94% \n",
      "openssl-1.1.1k       | 4.8 MB    | #########5 |  95% \n",
      "openssl-1.1.1k       | 4.8 MB    | #########6 |  96% \n",
      "openssl-1.1.1k       | 4.8 MB    | #########7 |  98% \n",
      "openssl-1.1.1k       | 4.8 MB    | #########8 |  99% \n",
      "openssl-1.1.1k       | 4.8 MB    | ########## | 100% \n",
      "openssl-1.1.1k       | 4.8 MB    | ########## | 100% \n",
      "\n",
      "conda-4.10.1         | 2.9 MB    |            |   0% \n",
      "conda-4.10.1         | 2.9 MB    |            |   1% \n",
      "conda-4.10.1         | 2.9 MB    | 2          |   2% \n",
      "conda-4.10.1         | 2.9 MB    | 3          |   4% \n",
      "conda-4.10.1         | 2.9 MB    | 5          |   6% \n",
      "conda-4.10.1         | 2.9 MB    | 7          |   8% \n",
      "conda-4.10.1         | 2.9 MB    | 9          |   9% \n",
      "conda-4.10.1         | 2.9 MB    | #1         |  11% \n",
      "conda-4.10.1         | 2.9 MB    | #3         |  14% \n",
      "conda-4.10.1         | 2.9 MB    | #5         |  15% \n",
      "conda-4.10.1         | 2.9 MB    | #7         |  17% \n",
      "conda-4.10.1         | 2.9 MB    | #9         |  19% \n",
      "conda-4.10.1         | 2.9 MB    | ##         |  21% \n",
      "conda-4.10.1         | 2.9 MB    | ##2        |  23% \n",
      "conda-4.10.1         | 2.9 MB    | ##5        |  26% \n",
      "conda-4.10.1         | 2.9 MB    | ##7        |  28% \n",
      "conda-4.10.1         | 2.9 MB    | ##9        |  30% \n",
      "conda-4.10.1         | 2.9 MB    | ###2       |  32% \n",
      "conda-4.10.1         | 2.9 MB    | ###3       |  34% \n",
      "conda-4.10.1         | 2.9 MB    | ###4       |  35% \n",
      "conda-4.10.1         | 2.9 MB    | ###6       |  36% \n",
      "conda-4.10.1         | 2.9 MB    | ###8       |  38% \n",
      "conda-4.10.1         | 2.9 MB    | ###9       |  39% \n",
      "conda-4.10.1         | 2.9 MB    | ####1      |  41% \n",
      "conda-4.10.1         | 2.9 MB    | ####2      |  43% \n",
      "conda-4.10.1         | 2.9 MB    | ####5      |  45% \n",
      "conda-4.10.1         | 2.9 MB    | ####6      |  47% \n",
      "conda-4.10.1         | 2.9 MB    | ####8      |  48% \n",
      "conda-4.10.1         | 2.9 MB    | #####      |  51% \n",
      "conda-4.10.1         | 2.9 MB    | #####2     |  52% \n",
      "conda-4.10.1         | 2.9 MB    | #####3     |  54% \n",
      "conda-4.10.1         | 2.9 MB    | #####5     |  55% \n",
      "conda-4.10.1         | 2.9 MB    | #####7     |  57% \n",
      "conda-4.10.1         | 2.9 MB    | #####8     |  59% \n",
      "conda-4.10.1         | 2.9 MB    | #####9     |  60% \n",
      "conda-4.10.1         | 2.9 MB    | ######1    |  62% \n",
      "conda-4.10.1         | 2.9 MB    | ######4    |  64% \n",
      "conda-4.10.1         | 2.9 MB    | ######5    |  66% \n",
      "conda-4.10.1         | 2.9 MB    | ######7    |  67% \n",
      "conda-4.10.1         | 2.9 MB    | ######8    |  68% \n",
      "conda-4.10.1         | 2.9 MB    | #######    |  71% \n",
      "conda-4.10.1         | 2.9 MB    | #######1   |  72% \n",
      "conda-4.10.1         | 2.9 MB    | #######2   |  73% \n",
      "conda-4.10.1         | 2.9 MB    | #######3   |  74% \n",
      "conda-4.10.1         | 2.9 MB    | #######4   |  75% \n",
      "conda-4.10.1         | 2.9 MB    | #######6   |  76% \n",
      "conda-4.10.1         | 2.9 MB    | #######7   |  77% \n",
      "conda-4.10.1         | 2.9 MB    | #######8   |  78% \n",
      "conda-4.10.1         | 2.9 MB    | #######8   |  79% \n",
      "conda-4.10.1         | 2.9 MB    | #######9   |  79% \n",
      "conda-4.10.1         | 2.9 MB    | #######9   |  80% \n",
      "conda-4.10.1         | 2.9 MB    | ########   |  80% \n",
      "conda-4.10.1         | 2.9 MB    | ########   |  81% \n",
      "conda-4.10.1         | 2.9 MB    | ########2  |  82% \n",
      "conda-4.10.1         | 2.9 MB    | ########2  |  83% \n",
      "conda-4.10.1         | 2.9 MB    | ########3  |  84% \n",
      "conda-4.10.1         | 2.9 MB    | ########4  |  84% \n",
      "conda-4.10.1         | 2.9 MB    | ########4  |  85% \n",
      "conda-4.10.1         | 2.9 MB    | ########6  |  87% \n",
      "conda-4.10.1         | 2.9 MB    | ########7  |  87% \n",
      "conda-4.10.1         | 2.9 MB    | ########8  |  89% \n",
      "conda-4.10.1         | 2.9 MB    | ########9  |  89% \n",
      "conda-4.10.1         | 2.9 MB    | #########1 |  91% \n",
      "conda-4.10.1         | 2.9 MB    | #########2 |  92% \n",
      "conda-4.10.1         | 2.9 MB    | #########3 |  93% \n",
      "conda-4.10.1         | 2.9 MB    | #########4 |  95% \n",
      "conda-4.10.1         | 2.9 MB    | #########5 |  96% \n",
      "conda-4.10.1         | 2.9 MB    | #########6 |  97% \n",
      "conda-4.10.1         | 2.9 MB    | #########7 |  98% \n",
      "conda-4.10.1         | 2.9 MB    | #########9 |  99% \n",
      "conda-4.10.1         | 2.9 MB    | ########## | 100% \n",
      "conda-4.10.1         | 2.9 MB    | ########## | 100% \n",
      "Preparing transaction: ...working... done\n",
      "Verifying transaction: ...working... done\n",
      "Executing transaction: ...working... done\n"
     ]
    }
   ],
   "source": [
    "from sklearn.datasets import load_iris\n",
    "iris = load_iris()"
   ]
  },
  {
   "cell_type": "raw",
   "id": "rental-heating",
   "metadata": {},
   "source": [
    "El data set consta de 3 tipos dferentes de iris (Setosa, versicolour y virginica) de longitud de pétalos y sepalos, almacenads en un numpy.ndarray de 150 x 4\n",
    "\n",
    "Las filas que piden muestra y columnas son: \n",
    "Longitud del pétalo y ancho del pétalo"
   ]
  },
  {
   "cell_type": "code",
   "execution_count": 9,
   "id": "verbal-therapist",
   "metadata": {},
   "outputs": [
    {
     "data": {
      "text/plain": [
       "{'data': array([[5.1, 3.5, 1.4, 0.2],\n",
       "        [4.9, 3. , 1.4, 0.2],\n",
       "        [4.7, 3.2, 1.3, 0.2],\n",
       "        [4.6, 3.1, 1.5, 0.2],\n",
       "        [5. , 3.6, 1.4, 0.2],\n",
       "        [5.4, 3.9, 1.7, 0.4],\n",
       "        [4.6, 3.4, 1.4, 0.3],\n",
       "        [5. , 3.4, 1.5, 0.2],\n",
       "        [4.4, 2.9, 1.4, 0.2],\n",
       "        [4.9, 3.1, 1.5, 0.1],\n",
       "        [5.4, 3.7, 1.5, 0.2],\n",
       "        [4.8, 3.4, 1.6, 0.2],\n",
       "        [4.8, 3. , 1.4, 0.1],\n",
       "        [4.3, 3. , 1.1, 0.1],\n",
       "        [5.8, 4. , 1.2, 0.2],\n",
       "        [5.7, 4.4, 1.5, 0.4],\n",
       "        [5.4, 3.9, 1.3, 0.4],\n",
       "        [5.1, 3.5, 1.4, 0.3],\n",
       "        [5.7, 3.8, 1.7, 0.3],\n",
       "        [5.1, 3.8, 1.5, 0.3],\n",
       "        [5.4, 3.4, 1.7, 0.2],\n",
       "        [5.1, 3.7, 1.5, 0.4],\n",
       "        [4.6, 3.6, 1. , 0.2],\n",
       "        [5.1, 3.3, 1.7, 0.5],\n",
       "        [4.8, 3.4, 1.9, 0.2],\n",
       "        [5. , 3. , 1.6, 0.2],\n",
       "        [5. , 3.4, 1.6, 0.4],\n",
       "        [5.2, 3.5, 1.5, 0.2],\n",
       "        [5.2, 3.4, 1.4, 0.2],\n",
       "        [4.7, 3.2, 1.6, 0.2],\n",
       "        [4.8, 3.1, 1.6, 0.2],\n",
       "        [5.4, 3.4, 1.5, 0.4],\n",
       "        [5.2, 4.1, 1.5, 0.1],\n",
       "        [5.5, 4.2, 1.4, 0.2],\n",
       "        [4.9, 3.1, 1.5, 0.2],\n",
       "        [5. , 3.2, 1.2, 0.2],\n",
       "        [5.5, 3.5, 1.3, 0.2],\n",
       "        [4.9, 3.6, 1.4, 0.1],\n",
       "        [4.4, 3. , 1.3, 0.2],\n",
       "        [5.1, 3.4, 1.5, 0.2],\n",
       "        [5. , 3.5, 1.3, 0.3],\n",
       "        [4.5, 2.3, 1.3, 0.3],\n",
       "        [4.4, 3.2, 1.3, 0.2],\n",
       "        [5. , 3.5, 1.6, 0.6],\n",
       "        [5.1, 3.8, 1.9, 0.4],\n",
       "        [4.8, 3. , 1.4, 0.3],\n",
       "        [5.1, 3.8, 1.6, 0.2],\n",
       "        [4.6, 3.2, 1.4, 0.2],\n",
       "        [5.3, 3.7, 1.5, 0.2],\n",
       "        [5. , 3.3, 1.4, 0.2],\n",
       "        [7. , 3.2, 4.7, 1.4],\n",
       "        [6.4, 3.2, 4.5, 1.5],\n",
       "        [6.9, 3.1, 4.9, 1.5],\n",
       "        [5.5, 2.3, 4. , 1.3],\n",
       "        [6.5, 2.8, 4.6, 1.5],\n",
       "        [5.7, 2.8, 4.5, 1.3],\n",
       "        [6.3, 3.3, 4.7, 1.6],\n",
       "        [4.9, 2.4, 3.3, 1. ],\n",
       "        [6.6, 2.9, 4.6, 1.3],\n",
       "        [5.2, 2.7, 3.9, 1.4],\n",
       "        [5. , 2. , 3.5, 1. ],\n",
       "        [5.9, 3. , 4.2, 1.5],\n",
       "        [6. , 2.2, 4. , 1. ],\n",
       "        [6.1, 2.9, 4.7, 1.4],\n",
       "        [5.6, 2.9, 3.6, 1.3],\n",
       "        [6.7, 3.1, 4.4, 1.4],\n",
       "        [5.6, 3. , 4.5, 1.5],\n",
       "        [5.8, 2.7, 4.1, 1. ],\n",
       "        [6.2, 2.2, 4.5, 1.5],\n",
       "        [5.6, 2.5, 3.9, 1.1],\n",
       "        [5.9, 3.2, 4.8, 1.8],\n",
       "        [6.1, 2.8, 4. , 1.3],\n",
       "        [6.3, 2.5, 4.9, 1.5],\n",
       "        [6.1, 2.8, 4.7, 1.2],\n",
       "        [6.4, 2.9, 4.3, 1.3],\n",
       "        [6.6, 3. , 4.4, 1.4],\n",
       "        [6.8, 2.8, 4.8, 1.4],\n",
       "        [6.7, 3. , 5. , 1.7],\n",
       "        [6. , 2.9, 4.5, 1.5],\n",
       "        [5.7, 2.6, 3.5, 1. ],\n",
       "        [5.5, 2.4, 3.8, 1.1],\n",
       "        [5.5, 2.4, 3.7, 1. ],\n",
       "        [5.8, 2.7, 3.9, 1.2],\n",
       "        [6. , 2.7, 5.1, 1.6],\n",
       "        [5.4, 3. , 4.5, 1.5],\n",
       "        [6. , 3.4, 4.5, 1.6],\n",
       "        [6.7, 3.1, 4.7, 1.5],\n",
       "        [6.3, 2.3, 4.4, 1.3],\n",
       "        [5.6, 3. , 4.1, 1.3],\n",
       "        [5.5, 2.5, 4. , 1.3],\n",
       "        [5.5, 2.6, 4.4, 1.2],\n",
       "        [6.1, 3. , 4.6, 1.4],\n",
       "        [5.8, 2.6, 4. , 1.2],\n",
       "        [5. , 2.3, 3.3, 1. ],\n",
       "        [5.6, 2.7, 4.2, 1.3],\n",
       "        [5.7, 3. , 4.2, 1.2],\n",
       "        [5.7, 2.9, 4.2, 1.3],\n",
       "        [6.2, 2.9, 4.3, 1.3],\n",
       "        [5.1, 2.5, 3. , 1.1],\n",
       "        [5.7, 2.8, 4.1, 1.3],\n",
       "        [6.3, 3.3, 6. , 2.5],\n",
       "        [5.8, 2.7, 5.1, 1.9],\n",
       "        [7.1, 3. , 5.9, 2.1],\n",
       "        [6.3, 2.9, 5.6, 1.8],\n",
       "        [6.5, 3. , 5.8, 2.2],\n",
       "        [7.6, 3. , 6.6, 2.1],\n",
       "        [4.9, 2.5, 4.5, 1.7],\n",
       "        [7.3, 2.9, 6.3, 1.8],\n",
       "        [6.7, 2.5, 5.8, 1.8],\n",
       "        [7.2, 3.6, 6.1, 2.5],\n",
       "        [6.5, 3.2, 5.1, 2. ],\n",
       "        [6.4, 2.7, 5.3, 1.9],\n",
       "        [6.8, 3. , 5.5, 2.1],\n",
       "        [5.7, 2.5, 5. , 2. ],\n",
       "        [5.8, 2.8, 5.1, 2.4],\n",
       "        [6.4, 3.2, 5.3, 2.3],\n",
       "        [6.5, 3. , 5.5, 1.8],\n",
       "        [7.7, 3.8, 6.7, 2.2],\n",
       "        [7.7, 2.6, 6.9, 2.3],\n",
       "        [6. , 2.2, 5. , 1.5],\n",
       "        [6.9, 3.2, 5.7, 2.3],\n",
       "        [5.6, 2.8, 4.9, 2. ],\n",
       "        [7.7, 2.8, 6.7, 2. ],\n",
       "        [6.3, 2.7, 4.9, 1.8],\n",
       "        [6.7, 3.3, 5.7, 2.1],\n",
       "        [7.2, 3.2, 6. , 1.8],\n",
       "        [6.2, 2.8, 4.8, 1.8],\n",
       "        [6.1, 3. , 4.9, 1.8],\n",
       "        [6.4, 2.8, 5.6, 2.1],\n",
       "        [7.2, 3. , 5.8, 1.6],\n",
       "        [7.4, 2.8, 6.1, 1.9],\n",
       "        [7.9, 3.8, 6.4, 2. ],\n",
       "        [6.4, 2.8, 5.6, 2.2],\n",
       "        [6.3, 2.8, 5.1, 1.5],\n",
       "        [6.1, 2.6, 5.6, 1.4],\n",
       "        [7.7, 3. , 6.1, 2.3],\n",
       "        [6.3, 3.4, 5.6, 2.4],\n",
       "        [6.4, 3.1, 5.5, 1.8],\n",
       "        [6. , 3. , 4.8, 1.8],\n",
       "        [6.9, 3.1, 5.4, 2.1],\n",
       "        [6.7, 3.1, 5.6, 2.4],\n",
       "        [6.9, 3.1, 5.1, 2.3],\n",
       "        [5.8, 2.7, 5.1, 1.9],\n",
       "        [6.8, 3.2, 5.9, 2.3],\n",
       "        [6.7, 3.3, 5.7, 2.5],\n",
       "        [6.7, 3. , 5.2, 2.3],\n",
       "        [6.3, 2.5, 5. , 1.9],\n",
       "        [6.5, 3. , 5.2, 2. ],\n",
       "        [6.2, 3.4, 5.4, 2.3],\n",
       "        [5.9, 3. , 5.1, 1.8]]),\n",
       " 'target': array([0, 0, 0, 0, 0, 0, 0, 0, 0, 0, 0, 0, 0, 0, 0, 0, 0, 0, 0, 0, 0, 0,\n",
       "        0, 0, 0, 0, 0, 0, 0, 0, 0, 0, 0, 0, 0, 0, 0, 0, 0, 0, 0, 0, 0, 0,\n",
       "        0, 0, 0, 0, 0, 0, 1, 1, 1, 1, 1, 1, 1, 1, 1, 1, 1, 1, 1, 1, 1, 1,\n",
       "        1, 1, 1, 1, 1, 1, 1, 1, 1, 1, 1, 1, 1, 1, 1, 1, 1, 1, 1, 1, 1, 1,\n",
       "        1, 1, 1, 1, 1, 1, 1, 1, 1, 1, 1, 1, 2, 2, 2, 2, 2, 2, 2, 2, 2, 2,\n",
       "        2, 2, 2, 2, 2, 2, 2, 2, 2, 2, 2, 2, 2, 2, 2, 2, 2, 2, 2, 2, 2, 2,\n",
       "        2, 2, 2, 2, 2, 2, 2, 2, 2, 2, 2, 2, 2, 2, 2, 2, 2, 2]),\n",
       " 'frame': None,\n",
       " 'target_names': array(['setosa', 'versicolor', 'virginica'], dtype='<U10'),\n",
       " 'DESCR': '.. _iris_dataset:\\n\\nIris plants dataset\\n--------------------\\n\\n**Data Set Characteristics:**\\n\\n    :Number of Instances: 150 (50 in each of three classes)\\n    :Number of Attributes: 4 numeric, predictive attributes and the class\\n    :Attribute Information:\\n        - sepal length in cm\\n        - sepal width in cm\\n        - petal length in cm\\n        - petal width in cm\\n        - class:\\n                - Iris-Setosa\\n                - Iris-Versicolour\\n                - Iris-Virginica\\n                \\n    :Summary Statistics:\\n\\n    ============== ==== ==== ======= ===== ====================\\n                    Min  Max   Mean    SD   Class Correlation\\n    ============== ==== ==== ======= ===== ====================\\n    sepal length:   4.3  7.9   5.84   0.83    0.7826\\n    sepal width:    2.0  4.4   3.05   0.43   -0.4194\\n    petal length:   1.0  6.9   3.76   1.76    0.9490  (high!)\\n    petal width:    0.1  2.5   1.20   0.76    0.9565  (high!)\\n    ============== ==== ==== ======= ===== ====================\\n\\n    :Missing Attribute Values: None\\n    :Class Distribution: 33.3% for each of 3 classes.\\n    :Creator: R.A. Fisher\\n    :Donor: Michael Marshall (MARSHALL%PLU@io.arc.nasa.gov)\\n    :Date: July, 1988\\n\\nThe famous Iris database, first used by Sir R.A. Fisher. The dataset is taken\\nfrom Fisher\\'s paper. Note that it\\'s the same as in R, but not as in the UCI\\nMachine Learning Repository, which has two wrong data points.\\n\\nThis is perhaps the best known database to be found in the\\npattern recognition literature.  Fisher\\'s paper is a classic in the field and\\nis referenced frequently to this day.  (See Duda & Hart, for example.)  The\\ndata set contains 3 classes of 50 instances each, where each class refers to a\\ntype of iris plant.  One class is linearly separable from the other 2; the\\nlatter are NOT linearly separable from each other.\\n\\n.. topic:: References\\n\\n   - Fisher, R.A. \"The use of multiple measurements in taxonomic problems\"\\n     Annual Eugenics, 7, Part II, 179-188 (1936); also in \"Contributions to\\n     Mathematical Statistics\" (John Wiley, NY, 1950).\\n   - Duda, R.O., & Hart, P.E. (1973) Pattern Classification and Scene Analysis.\\n     (Q327.D83) John Wiley & Sons.  ISBN 0-471-22361-1.  See page 218.\\n   - Dasarathy, B.V. (1980) \"Nosing Around the Neighborhood: A New System\\n     Structure and Classification Rule for Recognition in Partially Exposed\\n     Environments\".  IEEE Transactions on Pattern Analysis and Machine\\n     Intelligence, Vol. PAMI-2, No. 1, 67-71.\\n   - Gates, G.W. (1972) \"The Reduced Nearest Neighbor Rule\".  IEEE Transactions\\n     on Information Theory, May 1972, 431-433.\\n   - See also: 1988 MLC Proceedings, 54-64.  Cheeseman et al\"s AUTOCLASS II\\n     conceptual clustering system finds 3 classes in the data.\\n   - Many, many more ...',\n",
       " 'feature_names': ['sepal length (cm)',\n",
       "  'sepal width (cm)',\n",
       "  'petal length (cm)',\n",
       "  'petal width (cm)'],\n",
       " 'filename': 'C:\\\\Users\\\\User-PC\\\\anaconda3\\\\lib\\\\site-packages\\\\sklearn\\\\datasets\\\\data\\\\iris.csv'}"
      ]
     },
     "execution_count": 9,
     "metadata": {},
     "output_type": "execute_result"
    }
   ],
   "source": [
    "iris"
   ]
  },
  {
   "cell_type": "code",
   "execution_count": 10,
   "id": "peripheral-hunter",
   "metadata": {},
   "outputs": [],
   "source": [
    "X = iris.data[:,(2,3)] #petal length, petal width"
   ]
  },
  {
   "cell_type": "code",
   "execution_count": 11,
   "id": "spanish-celebration",
   "metadata": {},
   "outputs": [
    {
     "data": {
      "text/plain": [
       "array([0, 0, 0, 0, 0, 0, 0, 0, 0, 0, 0, 0, 0, 0, 0, 0, 0, 0, 0, 0, 0, 0,\n",
       "       0, 0, 0, 0, 0, 0, 0, 0, 0, 0, 0, 0, 0, 0, 0, 0, 0, 0, 0, 0, 0, 0,\n",
       "       0, 0, 0, 0, 0, 0, 1, 1, 1, 1, 1, 1, 1, 1, 1, 1, 1, 1, 1, 1, 1, 1,\n",
       "       1, 1, 1, 1, 1, 1, 1, 1, 1, 1, 1, 1, 1, 1, 1, 1, 1, 1, 1, 1, 1, 1,\n",
       "       1, 1, 1, 1, 1, 1, 1, 1, 1, 1, 1, 1, 2, 2, 2, 2, 2, 2, 2, 2, 2, 2,\n",
       "       2, 2, 2, 2, 2, 2, 2, 2, 2, 2, 2, 2, 2, 2, 2, 2, 2, 2, 2, 2, 2, 2,\n",
       "       2, 2, 2, 2, 2, 2, 2, 2, 2, 2, 2, 2, 2, 2, 2, 2, 2, 2])"
      ]
     },
     "execution_count": 11,
     "metadata": {},
     "output_type": "execute_result"
    }
   ],
   "source": [
    "iris.target"
   ]
  },
  {
   "cell_type": "markdown",
   "id": "foster-noise",
   "metadata": {},
   "source": [
    "## Categorias\n",
    "* 0 setosa\n",
    "* 1 versicolor\n",
    "* 2 virginica"
   ]
  },
  {
   "cell_type": "code",
   "execution_count": 12,
   "id": "animated-viking",
   "metadata": {},
   "outputs": [],
   "source": [
    "y=(iris.target==0)"
   ]
  },
  {
   "cell_type": "code",
   "execution_count": 13,
   "id": "tender-proceeding",
   "metadata": {},
   "outputs": [
    {
     "data": {
      "text/plain": [
       "array([ True,  True,  True,  True,  True,  True,  True,  True,  True,\n",
       "        True,  True,  True,  True,  True,  True,  True,  True,  True,\n",
       "        True,  True,  True,  True,  True,  True,  True,  True,  True,\n",
       "        True,  True,  True,  True,  True,  True,  True,  True,  True,\n",
       "        True,  True,  True,  True,  True,  True,  True,  True,  True,\n",
       "        True,  True,  True,  True,  True, False, False, False, False,\n",
       "       False, False, False, False, False, False, False, False, False,\n",
       "       False, False, False, False, False, False, False, False, False,\n",
       "       False, False, False, False, False, False, False, False, False,\n",
       "       False, False, False, False, False, False, False, False, False,\n",
       "       False, False, False, False, False, False, False, False, False,\n",
       "       False, False, False, False, False, False, False, False, False,\n",
       "       False, False, False, False, False, False, False, False, False,\n",
       "       False, False, False, False, False, False, False, False, False,\n",
       "       False, False, False, False, False, False, False, False, False,\n",
       "       False, False, False, False, False, False, False, False, False,\n",
       "       False, False, False, False, False, False])"
      ]
     },
     "execution_count": 13,
     "metadata": {},
     "output_type": "execute_result"
    }
   ],
   "source": [
    "y"
   ]
  },
  {
   "cell_type": "code",
   "execution_count": 15,
   "id": "devoted-throat",
   "metadata": {},
   "outputs": [],
   "source": [
    "y=(iris.target==0).astype(np.int)"
   ]
  },
  {
   "cell_type": "code",
   "execution_count": 16,
   "id": "canadian-arctic",
   "metadata": {},
   "outputs": [
    {
     "data": {
      "text/plain": [
       "array([1, 1, 1, 1, 1, 1, 1, 1, 1, 1, 1, 1, 1, 1, 1, 1, 1, 1, 1, 1, 1, 1,\n",
       "       1, 1, 1, 1, 1, 1, 1, 1, 1, 1, 1, 1, 1, 1, 1, 1, 1, 1, 1, 1, 1, 1,\n",
       "       1, 1, 1, 1, 1, 1, 0, 0, 0, 0, 0, 0, 0, 0, 0, 0, 0, 0, 0, 0, 0, 0,\n",
       "       0, 0, 0, 0, 0, 0, 0, 0, 0, 0, 0, 0, 0, 0, 0, 0, 0, 0, 0, 0, 0, 0,\n",
       "       0, 0, 0, 0, 0, 0, 0, 0, 0, 0, 0, 0, 0, 0, 0, 0, 0, 0, 0, 0, 0, 0,\n",
       "       0, 0, 0, 0, 0, 0, 0, 0, 0, 0, 0, 0, 0, 0, 0, 0, 0, 0, 0, 0, 0, 0,\n",
       "       0, 0, 0, 0, 0, 0, 0, 0, 0, 0, 0, 0, 0, 0, 0, 0, 0, 0])"
      ]
     },
     "execution_count": 16,
     "metadata": {},
     "output_type": "execute_result"
    }
   ],
   "source": [
    "y"
   ]
  },
  {
   "cell_type": "code",
   "execution_count": 17,
   "id": "bridal-initial",
   "metadata": {},
   "outputs": [
    {
     "data": {
      "text/plain": [
       "array([[1.4, 0.2],\n",
       "       [1.4, 0.2],\n",
       "       [1.3, 0.2],\n",
       "       [1.5, 0.2],\n",
       "       [1.4, 0.2],\n",
       "       [1.7, 0.4],\n",
       "       [1.4, 0.3],\n",
       "       [1.5, 0.2],\n",
       "       [1.4, 0.2],\n",
       "       [1.5, 0.1],\n",
       "       [1.5, 0.2],\n",
       "       [1.6, 0.2],\n",
       "       [1.4, 0.1],\n",
       "       [1.1, 0.1],\n",
       "       [1.2, 0.2],\n",
       "       [1.5, 0.4],\n",
       "       [1.3, 0.4],\n",
       "       [1.4, 0.3],\n",
       "       [1.7, 0.3],\n",
       "       [1.5, 0.3],\n",
       "       [1.7, 0.2],\n",
       "       [1.5, 0.4],\n",
       "       [1. , 0.2],\n",
       "       [1.7, 0.5],\n",
       "       [1.9, 0.2],\n",
       "       [1.6, 0.2],\n",
       "       [1.6, 0.4],\n",
       "       [1.5, 0.2],\n",
       "       [1.4, 0.2],\n",
       "       [1.6, 0.2],\n",
       "       [1.6, 0.2],\n",
       "       [1.5, 0.4],\n",
       "       [1.5, 0.1],\n",
       "       [1.4, 0.2],\n",
       "       [1.5, 0.2],\n",
       "       [1.2, 0.2],\n",
       "       [1.3, 0.2],\n",
       "       [1.4, 0.1],\n",
       "       [1.3, 0.2],\n",
       "       [1.5, 0.2],\n",
       "       [1.3, 0.3],\n",
       "       [1.3, 0.3],\n",
       "       [1.3, 0.2],\n",
       "       [1.6, 0.6],\n",
       "       [1.9, 0.4],\n",
       "       [1.4, 0.3],\n",
       "       [1.6, 0.2],\n",
       "       [1.4, 0.2],\n",
       "       [1.5, 0.2],\n",
       "       [1.4, 0.2],\n",
       "       [4.7, 1.4],\n",
       "       [4.5, 1.5],\n",
       "       [4.9, 1.5],\n",
       "       [4. , 1.3],\n",
       "       [4.6, 1.5],\n",
       "       [4.5, 1.3],\n",
       "       [4.7, 1.6],\n",
       "       [3.3, 1. ],\n",
       "       [4.6, 1.3],\n",
       "       [3.9, 1.4],\n",
       "       [3.5, 1. ],\n",
       "       [4.2, 1.5],\n",
       "       [4. , 1. ],\n",
       "       [4.7, 1.4],\n",
       "       [3.6, 1.3],\n",
       "       [4.4, 1.4],\n",
       "       [4.5, 1.5],\n",
       "       [4.1, 1. ],\n",
       "       [4.5, 1.5],\n",
       "       [3.9, 1.1],\n",
       "       [4.8, 1.8],\n",
       "       [4. , 1.3],\n",
       "       [4.9, 1.5],\n",
       "       [4.7, 1.2],\n",
       "       [4.3, 1.3],\n",
       "       [4.4, 1.4],\n",
       "       [4.8, 1.4],\n",
       "       [5. , 1.7],\n",
       "       [4.5, 1.5],\n",
       "       [3.5, 1. ],\n",
       "       [3.8, 1.1],\n",
       "       [3.7, 1. ],\n",
       "       [3.9, 1.2],\n",
       "       [5.1, 1.6],\n",
       "       [4.5, 1.5],\n",
       "       [4.5, 1.6],\n",
       "       [4.7, 1.5],\n",
       "       [4.4, 1.3],\n",
       "       [4.1, 1.3],\n",
       "       [4. , 1.3],\n",
       "       [4.4, 1.2],\n",
       "       [4.6, 1.4],\n",
       "       [4. , 1.2],\n",
       "       [3.3, 1. ],\n",
       "       [4.2, 1.3],\n",
       "       [4.2, 1.2],\n",
       "       [4.2, 1.3],\n",
       "       [4.3, 1.3],\n",
       "       [3. , 1.1],\n",
       "       [4.1, 1.3],\n",
       "       [6. , 2.5],\n",
       "       [5.1, 1.9],\n",
       "       [5.9, 2.1],\n",
       "       [5.6, 1.8],\n",
       "       [5.8, 2.2],\n",
       "       [6.6, 2.1],\n",
       "       [4.5, 1.7],\n",
       "       [6.3, 1.8],\n",
       "       [5.8, 1.8],\n",
       "       [6.1, 2.5],\n",
       "       [5.1, 2. ],\n",
       "       [5.3, 1.9],\n",
       "       [5.5, 2.1],\n",
       "       [5. , 2. ],\n",
       "       [5.1, 2.4],\n",
       "       [5.3, 2.3],\n",
       "       [5.5, 1.8],\n",
       "       [6.7, 2.2],\n",
       "       [6.9, 2.3],\n",
       "       [5. , 1.5],\n",
       "       [5.7, 2.3],\n",
       "       [4.9, 2. ],\n",
       "       [6.7, 2. ],\n",
       "       [4.9, 1.8],\n",
       "       [5.7, 2.1],\n",
       "       [6. , 1.8],\n",
       "       [4.8, 1.8],\n",
       "       [4.9, 1.8],\n",
       "       [5.6, 2.1],\n",
       "       [5.8, 1.6],\n",
       "       [6.1, 1.9],\n",
       "       [6.4, 2. ],\n",
       "       [5.6, 2.2],\n",
       "       [5.1, 1.5],\n",
       "       [5.6, 1.4],\n",
       "       [6.1, 2.3],\n",
       "       [5.6, 2.4],\n",
       "       [5.5, 1.8],\n",
       "       [4.8, 1.8],\n",
       "       [5.4, 2.1],\n",
       "       [5.6, 2.4],\n",
       "       [5.1, 2.3],\n",
       "       [5.1, 1.9],\n",
       "       [5.9, 2.3],\n",
       "       [5.7, 2.5],\n",
       "       [5.2, 2.3],\n",
       "       [5. , 1.9],\n",
       "       [5.2, 2. ],\n",
       "       [5.4, 2.3],\n",
       "       [5.1, 1.8]])"
      ]
     },
     "execution_count": 17,
     "metadata": {},
     "output_type": "execute_result"
    }
   ],
   "source": [
    "X"
   ]
  },
  {
   "cell_type": "code",
   "execution_count": 19,
   "id": "extraordinary-papua",
   "metadata": {},
   "outputs": [],
   "source": [
    "from sklearn.linear_model import Perceptron"
   ]
  },
  {
   "cell_type": "markdown",
   "id": "healthy-large",
   "metadata": {},
   "source": [
    "https://scikit-learn.org/stable/modules/generated/sklearn.linear_model.Perceptron.html"
   ]
  },
  {
   "cell_type": "code",
   "execution_count": 22,
   "id": "radio-punch",
   "metadata": {},
   "outputs": [
    {
     "data": {
      "text/plain": [
       "Perceptron(random_state=42)"
      ]
     },
     "execution_count": 22,
     "metadata": {},
     "output_type": "execute_result"
    }
   ],
   "source": [
    "per_clf = Perceptron(random_state=42)\n",
    "per_clf.fit(X, y)"
   ]
  },
  {
   "cell_type": "code",
   "execution_count": 23,
   "id": "broken-stockholm",
   "metadata": {},
   "outputs": [
    {
     "data": {
      "text/plain": [
       "array([1, 1, 1, 1, 1, 1, 1, 1, 1, 1, 1, 1, 1, 1, 1, 1, 1, 1, 1, 1, 1, 1,\n",
       "       1, 1, 1, 1, 1, 1, 1, 1, 1, 1, 1, 1, 1, 1, 1, 1, 1, 1, 1, 1, 1, 1,\n",
       "       1, 1, 1, 1, 1, 1, 0, 0, 0, 0, 0, 0, 0, 0, 0, 0, 0, 0, 0, 0, 0, 0,\n",
       "       0, 0, 0, 0, 0, 0, 0, 0, 0, 0, 0, 0, 0, 0, 0, 0, 0, 0, 0, 0, 0, 0,\n",
       "       0, 0, 0, 0, 0, 0, 0, 0, 0, 0, 0, 0, 0, 0, 0, 0, 0, 0, 0, 0, 0, 0,\n",
       "       0, 0, 0, 0, 0, 0, 0, 0, 0, 0, 0, 0, 0, 0, 0, 0, 0, 0, 0, 0, 0, 0,\n",
       "       0, 0, 0, 0, 0, 0, 0, 0, 0, 0, 0, 0, 0, 0, 0, 0, 0, 0])"
      ]
     },
     "execution_count": 23,
     "metadata": {},
     "output_type": "execute_result"
    }
   ],
   "source": [
    "y_pred=per_clf.predict(X)\n",
    "y_pred"
   ]
  },
  {
   "cell_type": "code",
   "execution_count": 24,
   "id": "consecutive-pasta",
   "metadata": {},
   "outputs": [
    {
     "data": {
      "text/plain": [
       "1.0"
      ]
     },
     "execution_count": 24,
     "metadata": {},
     "output_type": "execute_result"
    }
   ],
   "source": [
    "from sklearn.metrics import accuracy_score\n",
    "accuracy_score(y,y_pred)"
   ]
  },
  {
   "cell_type": "code",
   "execution_count": 25,
   "id": "affecting-scout",
   "metadata": {},
   "outputs": [
    {
     "data": {
      "text/plain": [
       "array([[-1.4, -2.2]])"
      ]
     },
     "execution_count": 25,
     "metadata": {},
     "output_type": "execute_result"
    }
   ],
   "source": [
    "per_clf.coef_"
   ]
  },
  {
   "cell_type": "code",
   "execution_count": 26,
   "id": "adult-amazon",
   "metadata": {},
   "outputs": [
    {
     "data": {
      "text/plain": [
       "array([4.])"
      ]
     },
     "execution_count": 26,
     "metadata": {},
     "output_type": "execute_result"
    },
    {
     "name": "stdout",
     "output_type": "stream",
     "text": [
      "Collecting package metadata (current_repodata.json): ...working... done\n",
      "Solving environment: ...working... done\n",
      "\n",
      "## Package Plan ##\n",
      "\n",
      "  environment location: C:\\Users\\User-PC\\anaconda3\n",
      "\n",
      "  added / updated specs:\n",
      "    - scikit-learn\n",
      "\n",
      "\n",
      "The following packages will be downloaded:\n",
      "\n",
      "    package                    |            build\n",
      "    ---------------------------|-----------------\n",
      "    ca-certificates-2021.4.13  |       haa95532_1         115 KB\n",
      "    conda-4.10.1               |   py38haa95532_1         2.9 MB\n",
      "    openssl-1.1.1k             |       h2bbff1b_0         4.8 MB\n",
      "    ------------------------------------------------------------\n",
      "                                           Total:         7.8 MB\n",
      "\n",
      "The following packages will be UPDATED:\n",
      "\n",
      "  ca-certificates                      2021.1.19-haa95532_0 --> 2021.4.13-haa95532_1\n",
      "  conda                                4.9.2-py38haa95532_0 --> 4.10.1-py38haa95532_1\n",
      "  openssl                                 1.1.1j-h2bbff1b_0 --> 1.1.1k-h2bbff1b_0\n",
      "\n",
      "\n",
      "Proceed ([y]/n)? \n"
     ]
    }
   ],
   "source": [
    "per_clf.intercept_"
   ]
  },
  {
   "cell_type": "code",
   "execution_count": null,
   "id": "fitted-yahoo",
   "metadata": {},
   "outputs": [],
   "source": []
  }
 ],
 "metadata": {
  "kernelspec": {
   "display_name": "Python 3",
   "language": "python",
   "name": "python3"
  },
  "language_info": {
   "codemirror_mode": {
    "name": "ipython",
    "version": 3
   },
   "file_extension": ".py",
   "mimetype": "text/x-python",
   "name": "python",
   "nbconvert_exporter": "python",
   "pygments_lexer": "ipython3",
   "version": "3.8.8"
  }
 },
 "nbformat": 4,
 "nbformat_minor": 5
}
