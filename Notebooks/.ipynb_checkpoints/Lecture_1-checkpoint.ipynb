{
 "cells": [
  {
   "cell_type": "code",
   "execution_count": 1,
   "id": "animated-excuse",
   "metadata": {},
   "outputs": [
    {
     "data": {
      "text/plain": [
       "4"
      ]
     },
     "execution_count": 1,
     "metadata": {},
     "output_type": "execute_result"
    }
   ],
   "source": [
    "2+2"
   ]
  },
  {
   "cell_type": "markdown",
   "id": "preliminary-diagram",
   "metadata": {},
   "source": [
    "# Headin1\n",
    "## Headin2\n",
    "#### Headin4\n",
    "* Bullet point 1\n",
    "* Bullet point 2\n",
    "this is a MD cell"
   ]
  },
  {
   "cell_type": "raw",
   "id": "cutting-outline",
   "metadata": {},
   "source": [
    "Raw don´t supor the format of markdown\n",
    "ctrl+enter ejecuta la linea actual\n",
    "alt+enter nueva linea\n",
    "si no estas editando una fila la tecla A crea más filas\n",
    "fila azul dos veces letra d borra\n",
    "\n",
    "letra r cambia a edicion raw\n",
    "letra m cambia a markdown\n",
    "letra y cambia a codigo"
   ]
  },
  {
   "cell_type": "code",
   "execution_count": 3,
   "id": "domestic-mumbai",
   "metadata": {},
   "outputs": [
    {
     "data": {
      "text/plain": [
       "8"
      ]
     },
     "execution_count": 3,
     "metadata": {},
     "output_type": "execute_result"
    }
   ],
   "source": [
    "5+3"
   ]
  },
  {
   "cell_type": "code",
   "execution_count": null,
   "id": "pretty-republic",
   "metadata": {},
   "outputs": [],
   "source": []
  },
  {
   "cell_type": "code",
   "execution_count": null,
   "id": "reflected-holmes",
   "metadata": {},
   "outputs": [],
   "source": []
  }
 ],
 "metadata": {
  "kernelspec": {
   "display_name": "Python 3",
   "language": "python",
   "name": "python3"
  },
  "language_info": {
   "codemirror_mode": {
    "name": "ipython",
    "version": 3
   },
   "file_extension": ".py",
   "mimetype": "text/x-python",
   "name": "python",
   "nbconvert_exporter": "python",
   "pygments_lexer": "ipython3",
   "version": "3.8.8"
  }
 },
 "nbformat": 4,
 "nbformat_minor": 5
}
